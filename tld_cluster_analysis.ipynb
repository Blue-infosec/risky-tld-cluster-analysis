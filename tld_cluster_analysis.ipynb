{
 "cells": [
  {
   "cell_type": "markdown",
   "metadata": {},
   "source": [
    "# TLD Cluster Analysis\n",
    "\n",
    "This is an analysis of the overall risky profile of TLDs using DomainTools Threat Profile scores to create a risk profile for each TLD, and then clusering analysis to group TLDs that have a similar risk profile together."
   ]
  },
  {
   "cell_type": "code",
   "execution_count": 1,
   "metadata": {},
   "outputs": [],
   "source": [
    "# import the required libraries \n",
    "import pyspark\n",
    "from pyspark.ml.clustering import KMeans, BisectingKMeans\n",
    "from pyspark.ml.evaluation import ClusteringEvaluator\n",
    "from pyspark.sql import SparkSession\n",
    "from pyspark.sql.functions import (\n",
    "    avg,\n",
    "    col,\n",
    "    collect_list,\n",
    "    count,\n",
    "    lit,\n",
    "    max,\n",
    "    min,\n",
    "    stddev,\n",
    "    size,\n",
    "    sum,\n",
    "    udf,\n",
    ")\n",
    "from pyspark.sql.types import StringType, StructType, StructField, FloatType, LongType\n",
    "from pyspark.ml.linalg import Vectors, VectorUDT"
   ]
  },
  {
   "cell_type": "markdown",
   "metadata": {},
   "source": [
    "#### Setup Plotly for our graphs"
   ]
  },
  {
   "cell_type": "code",
   "execution_count": 23,
   "metadata": {},
   "outputs": [],
   "source": [
    "import plotly.plotly as py\n",
    "import plotly.graph_objs as go\n",
    "import random\n",
    "import string\n",
    "title_font=dict(family='Arial, sans-serif',size=22)\n",
    "axis_font=dict(family='Arial, sans-serif',size=18)\n",
    "x_axis=dict(\n",
    "        title='Threat Profile Score',        \n",
    "        titlefont=axis_font\n",
    "    )\n",
    "y_axis=dict(\n",
    "        title='% of Total Domains',\n",
    "        titlefont=axis_font\n",
    "    )\n",
    "\n",
    "def plot_name():\n",
    "    return ''.join(random.choices(string.ascii_uppercase + string.digits, k=8))"
   ]
  },
  {
   "cell_type": "markdown",
   "metadata": {},
   "source": [
    "#### Setup Spark artifacts and read in the data"
   ]
  },
  {
   "cell_type": "code",
   "execution_count": 3,
   "metadata": {},
   "outputs": [],
   "source": [
    "app_name = \"tld_cluster_analysis\"\n",
    "spark = SparkSession.builder.appName(app_name).config(\"spark.speculation\", \"false\").master(\"local[4]\").getOrCreate()\n",
    "\n",
    "TLD_FEATURES = StructType(\n",
    "    [\n",
    "        StructField(\"tld\", StringType(), True),\n",
    "        StructField(\"phish_features\", VectorUDT(), True),\n",
    "        StructField(\"malware_features\", VectorUDT(), True),\n",
    "        StructField(\"spam_features\", VectorUDT(), True),\n",
    "        StructField(\"domain_count\", LongType(), True),\n",
    "    ]\n",
    ")\n",
    "\n",
    "DF_DATA_PATH = \"/Users/turbo/projects/tld_risk_score_analysis_blog/data/\"\n",
    "\n",
    "df = spark.read.load(\n",
    "    DF_DATA_PATH,\n",
    "    format=\"orc\",\n",
    "    schema=TLD_FEATURES)"
   ]
  },
  {
   "cell_type": "markdown",
   "metadata": {},
   "source": [
    "### What does the TLD data look like?\n",
    "\n",
    "Each threat type (phish, malware, spam) has a features column.  These represent the probability distributions described in the analysis article.  The `domain_count` column is the count of domains in for the TLD that were young enough to be scored by Threat Profile"
   ]
  },
  {
   "cell_type": "code",
   "execution_count": 27,
   "metadata": {},
   "outputs": [
    {
     "name": "stdout",
     "output_type": "stream",
     "text": [
      "root\n",
      " |-- tld: string (nullable = true)\n",
      " |-- phish_features: vector (nullable = true)\n",
      " |-- malware_features: vector (nullable = true)\n",
      " |-- spam_features: vector (nullable = true)\n",
      " |-- domain_count: long (nullable = true)\n",
      "\n",
      "+------------+--------------------+--------------------+--------------------+------------+\n",
      "|         tld|      phish_features|    malware_features|       spam_features|domain_count|\n",
      "+------------+--------------------+--------------------+--------------------+------------+\n",
      "|         .io|[0.34609439752693...|[0.39338556483949...|[0.87051981362424...|      357128|\n",
      "|       .loan|[0.17286702735385...|[0.01401396357812...|[0.22308407061770...|     2203017|\n",
      "|       .love|[0.20245398773006...|[0.14982043992219...|[0.55001496333981...|       26732|\n",
      "|.photography|[0.28393539637529...|[0.25619529034644...|[0.77117494760202...|       24333|\n",
      "|      .world|[0.15915677960051...|[0.16037749318256...|[0.62821061949429...|      140082|\n",
      "|       .date|[0.02797370711648...|[0.04800102050004...|[0.03907164510610...|      133268|\n",
      "|       .tech|[0.20214423325887...|[0.14765630828509...|[0.68525938376333...|      227867|\n",
      "| .xn--czru2d|[0.00133257186369...|[0.0,0.0,0.0,0.0,...|[0.93146773272415...|        5253|\n",
      "|     .com.sy|[0.01094312455003...|[0.11907847372210...|[0.22030237580993...|        6945|\n",
      "|    .digital|[0.30956199436900...|[0.35172315478099...|[0.83944545422146...|       28059|\n",
      "|         .ci|[0.51272015655577...|[0.61921069797782...|[0.81816699282452...|        6132|\n",
      "| .properties|[0.50855798031664...|[0.52128797603765...|[0.59724005134788...|        9348|\n",
      "|         .tv|[0.29969337001332...|[0.25308403553439...|[0.84656676887666...|      126863|\n",
      "|         .id|[0.12343206493095...|[0.14771090263869...|[0.84439525432463...|       85383|\n",
      "|        .ovh|[0.28328931717839...|[0.10527589057113...|[0.33288309174848...|       49603|\n",
      "|     .org.br|[0.26169575544769...|[0.40214809459878...|[0.92047919033357...|        9683|\n",
      "|      .co.nz|[0.56266302699423...|[0.60008340915984...|[0.91157112526539...|      131880|\n",
      "|        .xyz|[0.03877472011121...|[0.01247574402794...|[0.45705020461708...|     2526182|\n",
      "|    .express|[0.17488128377271...|[0.18372359587358...|[0.58080890781070...|        6107|\n",
      "|         .it|[0.47582680273859...|[0.59125965412021...|[0.88581692232863...|      916966|\n",
      "+------------+--------------------+--------------------+--------------------+------------+\n",
      "only showing top 20 rows\n",
      "\n"
     ]
    }
   ],
   "source": [
    "df.printSchema()\n",
    "df.show()"
   ]
  },
  {
   "cell_type": "markdown",
   "metadata": {},
   "source": [
    "### Plot the phish distribution for .COM\n",
    "\n",
    "What does the phishiness of .COM look like all by itself? Most of the domains had a fairly low Threat Profile phish score, but there is an uptic of phishy domains at the far right. "
   ]
  },
  {
   "cell_type": "code",
   "execution_count": 26,
   "metadata": {},
   "outputs": [
    {
     "data": {
      "text/html": [
       "<iframe id=\"igraph\" scrolling=\"no\" style=\"border:none;\" seamless=\"seamless\" src=\"https://plot.ly/~jconwell/22.embed\" height=\"525px\" width=\"100%\"></iframe>"
      ],
      "text/plain": [
       "<chart_studio.tools.PlotlyDisplay object>"
      ]
     },
     "execution_count": 26,
     "metadata": {},
     "output_type": "execute_result"
    }
   ],
   "source": [
    "com_features = df.where(col(\"TLD\") == \".com\").select(\"phish_features\").collect()[0][0].array\n",
    "\n",
    "buckets = [x for x in range(100)]\n",
    "\n",
    "dot_com = go.Scatter(\n",
    "    x = buckets, \n",
    "    y = com_features,\n",
    "    name = \".com\"\n",
    ")\n",
    "data = [dot_com]\n",
    "\n",
    "layout = go.Layout(\n",
    "    title=\"Phishiness of .COM \",\n",
    "    titlefont=title_font,\n",
    "    xaxis=x_axis,\n",
    "    yaxis=y_axis\n",
    ")\n",
    "fig = go.Figure(data=data, layout=layout)\n",
    "\n",
    "py.iplot(fig, filename=plot_name())"
   ]
  },
  {
   "cell_type": "markdown",
   "metadata": {},
   "source": [
    "### Look at .COM vs .TK\n",
    ".TK and .COM are almost mirrors of each other"
   ]
  },
  {
   "cell_type": "code",
   "execution_count": 28,
   "metadata": {},
   "outputs": [
    {
     "data": {
      "text/html": [
       "<iframe id=\"igraph\" scrolling=\"no\" style=\"border:none;\" seamless=\"seamless\" src=\"https://plot.ly/~jconwell/24.embed\" height=\"525px\" width=\"100%\"></iframe>"
      ],
      "text/plain": [
       "<chart_studio.tools.PlotlyDisplay object>"
      ]
     },
     "execution_count": 28,
     "metadata": {},
     "output_type": "execute_result"
    }
   ],
   "source": [
    "tk_features = df.where(col(\"TLD\") == \".tk\").select(\"phish_features\").collect()[0][0].array\n",
    "com_features = df.where(col(\"TLD\") == \".com\").select(\"phish_features\").collect()[0][0].array\n",
    "\n",
    "buckets = [x for x in range(100)]\n",
    "\n",
    "dot_tk = go.Scatter(\n",
    "    x = buckets, \n",
    "    y = tk_features,\n",
    "    name = \".tk\"\n",
    ")\n",
    "dot_com = go.Scatter(\n",
    "    x = buckets, \n",
    "    y = com_features,\n",
    "    name = \".com\"\n",
    ")\n",
    "data = [dot_com, dot_tk]\n",
    "\n",
    "layout = go.Layout(\n",
    "    title=\"Phishiness of .COM vs .TK\",\n",
    "    titlefont=title_font,\n",
    "    xaxis=x_axis,\n",
    "    yaxis=y_axis\n",
    ")\n",
    "fig = go.Figure(data=data, layout=layout)\n",
    "\n",
    "py.iplot(fig, filename=plot_name())"
   ]
  },
  {
   "cell_type": "markdown",
   "metadata": {},
   "source": [
    "## Phish Clusters\n",
    "### Cluster phish's TLD Risk vectors and see what we get\n",
    "\n",
    "I used the BisectingKMeans algorithm. It gives more even sized clusters than KMeans, but is more \"smooth\" in how it groups items together.  Play around with the two algorithms (just comment one out, and uncomment the other) and see how the clusters change.  You can also play around with the `k` value. Set it to other values and see what kind of clusters you get."
   ]
  },
  {
   "cell_type": "code",
   "execution_count": 29,
   "metadata": {},
   "outputs": [],
   "source": [
    "# Pick the clustering algorithm to use\n",
    "clustering = BisectingKMeans(k=20, seed=42)\n",
    "# clustering = KMeans(k=20, seed=42)\n",
    "\n",
    "phish_df = df.select(col(\"tld\"), col(\"phish_features\").alias(\"features\"), col(\"domain_count\"))\n",
    "\n",
    "phish_model = clustering.fit(phish_df)\n",
    "\n",
    "# Evaluate clustering.\n",
    "# cost = model.computeCost(df)\n",
    "# print(\"Within Set Sum of Squared Errors = \" + str(cost))\n",
    "\n",
    "# Shows the cluster centroid vectors.\n",
    "# print(\"Cluster Centers: \")\n",
    "# centers = phish_model.clusterCenters()\n",
    "# for center in centers:\n",
    "#     print(center)\n",
    "\n",
    "# assign TLDs to vectors\n",
    "phish_predictions = phish_model.transform(phish_df)\\\n",
    "    .orderBy(col(\"prediction\"), col(\"domain_count\").desc()).cache()\n",
    "\n",
    "# Evaluate clustering by computing Silhouette score\n",
    "# silhouette = ClusteringEvaluator().evaluate(predictions)\n",
    "# print(\"Silhouette with squared euclidean distance = \" + str(silhouette))"
   ]
  },
  {
   "cell_type": "markdown",
   "metadata": {},
   "source": [
    "#### Play around with the graph\n",
    "\n",
    "Cleaning up the chart: There are a lot of lines in this chart. If you move your mouse around it shows the raw value at that point for each cluster.  If you click third from the right button at the top of the chart (looks like a single arrow or something), the chart will only show the raw value for the closest line.\n",
    "\n",
    "You can also click/drag sections of the chart and it will zoom into that region. This alows you to see crowded sections of the chart more clearly. To go back to the full view click the button at the top of the chart that looks like a house."
   ]
  },
  {
   "cell_type": "code",
   "execution_count": 30,
   "metadata": {},
   "outputs": [
    {
     "data": {
      "text/html": [
       "<iframe id=\"igraph\" scrolling=\"no\" style=\"border:none;\" seamless=\"seamless\" src=\"https://plot.ly/~jconwell/26.embed\" height=\"525px\" width=\"100%\"></iframe>"
      ],
      "text/plain": [
       "<chart_studio.tools.PlotlyDisplay object>"
      ]
     },
     "execution_count": 30,
     "metadata": {},
     "output_type": "execute_result"
    }
   ],
   "source": [
    "centroids = phish_model.clusterCenters()\n",
    "buckets = [x for x in range(100)]\n",
    "data = [go.Scatter(x = buckets, y = centroids[c], name = f\"cluster_{c}\") for c in range(20)]\n",
    "\n",
    "layout = go.Layout(\n",
    "    title=\"TLDs Clustered By Phish Score\",\n",
    "    titlefont=title_font,\n",
    "    xaxis=x_axis,\n",
    "    yaxis=y_axis\n",
    ")\n",
    "fig = go.Figure(data=data, layout=layout)\n",
    "\n",
    "py.iplot(fig, filename=plot_name())"
   ]
  },
  {
   "cell_type": "markdown",
   "metadata": {},
   "source": [
    "### Clusters 7, 8 and 9 look pretty phishy. Lets pull them out and look at just them\n",
    "\n",
    "From the plot above it looks like trace 7, 8, and 9 are the most sketchy in terms of phish. \n",
    "\n",
    "Note: if you change the clustering algorithm or the number of clusters, you will get a completly different set of results. You'll have to explore the clusters to figure out which ones look phishy."
   ]
  },
  {
   "cell_type": "code",
   "execution_count": 31,
   "metadata": {},
   "outputs": [
    {
     "data": {
      "text/html": [
       "<iframe id=\"igraph\" scrolling=\"no\" style=\"border:none;\" seamless=\"seamless\" src=\"https://plot.ly/~jconwell/28.embed\" height=\"525px\" width=\"100%\"></iframe>"
      ],
      "text/plain": [
       "<chart_studio.tools.PlotlyDisplay object>"
      ]
     },
     "execution_count": 31,
     "metadata": {},
     "output_type": "execute_result"
    }
   ],
   "source": [
    "centroids = phish_model.clusterCenters()\n",
    "buckets = [x for x in range(100)]\n",
    "data = [go.Scatter(x = buckets, y = centroids[c], name = f\"cluster_{c}\") for c in [7, 8, 9]]\n",
    "\n",
    "layout = go.Layout(\n",
    "    title=\"Phish Clusters 7, 8, 9\",\n",
    "    titlefont=title_font,\n",
    "    xaxis=x_axis,\n",
    "    yaxis=y_axis\n",
    ")\n",
    "fig = go.Figure(data=data, layout=layout)\n",
    "\n",
    "\n",
    "py.iplot(fig, filename=plot_name())"
   ]
  },
  {
   "cell_type": "markdown",
   "metadata": {},
   "source": [
    "#### Cluster 8 is definitely phishy. Cluster 9 has ~2x more sketchy domains than it does non-sketchy. And cluster 7 is fairly even on both ends"
   ]
  },
  {
   "cell_type": "markdown",
   "metadata": {},
   "source": [
    "### List of Phishy TLDs from clusters 7, 8, and 9\n",
    "\n",
    "Notice the top 5 TLDs are all Freenom TLDs"
   ]
  },
  {
   "cell_type": "code",
   "execution_count": 37,
   "metadata": {},
   "outputs": [
    {
     "name": "stdout",
     "output_type": "stream",
     "text": [
      "+---------------+----------+------------+\n",
      "|            tld|prediction|domain_count|\n",
      "+---------------+----------+------------+\n",
      "|            .tk|         7|     3158181|\n",
      "|            .ga|         7|     1950194|\n",
      "|            .ml|         9|     1682226|\n",
      "|            .cf|         7|     1667317|\n",
      "|            .gq|         9|     1534950|\n",
      "|          .work|         9|      597322|\n",
      "|           .icu|         9|      539214|\n",
      "|           .gdn|         8|      354361|\n",
      "|           .men|         9|      338756|\n",
      "|           .win|         9|      314803|\n",
      "|        .stream|         8|      275279|\n",
      "|           .bid|         8|      228408|\n",
      "|        .review|         9|      208278|\n",
      "|         .trade|         9|      161101|\n",
      "|          .host|         7|      155228|\n",
      "|         .cloud|         9|      154666|\n",
      "|          .date|         8|      133268|\n",
      "|           .dev|         7|      121098|\n",
      "|      .download|         8|      100084|\n",
      "|         .party|         7|       96533|\n",
      "|           .ink|         7|       86701|\n",
      "|       .science|         7|       83805|\n",
      "|        .racing|         7|       71005|\n",
      "|      .business|         9|       59614|\n",
      "|    .accountant|         9|       57219|\n",
      "|         .faith|         7|       55141|\n",
      "|   .xn--3ds443g|         8|       36883|\n",
      "|.xn--6qq986b3xl|         7|       29169|\n",
      "|       .cricket|         7|       22460|\n",
      "|       .gallery|         9|        8903|\n",
      "|        .in.net|         7|        7696|\n",
      "+---------------+----------+------------+\n",
      "\n"
     ]
    }
   ],
   "source": [
    "phish_predictions\\\n",
    "    .where(col(\"prediction\").isin([7,8,9]))\\\n",
    "    .select(\"tld\", \"prediction\", \"domain_count\")\\\n",
    "    .orderBy(\"domain_count\", ascending=False)\\\n",
    "    .show(100)"
   ]
  },
  {
   "cell_type": "markdown",
   "metadata": {},
   "source": [
    "## Malware Clusters\n",
    "### Cluster malware's TLD Risk vectors and see what we get"
   ]
  },
  {
   "cell_type": "code",
   "execution_count": 32,
   "metadata": {},
   "outputs": [],
   "source": [
    "# Pick the clustering algorithm to use\n",
    "clustering = BisectingKMeans(k=20, seed=42)\n",
    "# clustering = KMeans(k=20, seed=42)\n",
    "\n",
    "malware_df = df.select(col(\"tld\"), col(\"malware_features\").alias(\"features\"), col(\"domain_count\"))\n",
    "\n",
    "malware_model = clustering.fit(malware_df)\n",
    "\n",
    "# Shows the result.\n",
    "# print(\"Cluster Centers: \")\n",
    "# centers = malware_model.clusterCenters()\n",
    "# for center in centers:\n",
    "#     print(center)\n",
    "\n",
    "# assign TLDs to vectors\n",
    "malware_predictions = malware_model.transform(malware_df)\\\n",
    "    .orderBy(col(\"prediction\"), col(\"domain_count\").desc()).cache()"
   ]
  },
  {
   "cell_type": "code",
   "execution_count": 33,
   "metadata": {},
   "outputs": [
    {
     "data": {
      "text/html": [
       "<iframe id=\"igraph\" scrolling=\"no\" style=\"border:none;\" seamless=\"seamless\" src=\"https://plot.ly/~jconwell/30.embed\" height=\"525px\" width=\"100%\"></iframe>"
      ],
      "text/plain": [
       "<chart_studio.tools.PlotlyDisplay object>"
      ]
     },
     "execution_count": 33,
     "metadata": {},
     "output_type": "execute_result"
    }
   ],
   "source": [
    "centroids = malware_model.clusterCenters()\n",
    "buckets = [x for x in range(100)]\n",
    "data = [go.Scatter(x = buckets, y = centroids[c], name = f\"cluster_{c}\") for c in range(20)]\n",
    "\n",
    "layout = go.Layout(\n",
    "    title=\"TLDs Clustered By Malware Score\",\n",
    "    titlefont=title_font,\n",
    "    xaxis=x_axis,\n",
    "    yaxis=y_axis\n",
    ")\n",
    "fig = go.Figure(data=data, layout=layout)\n",
    "\n",
    "py.iplot(fig, filename=plot_name())"
   ]
  },
  {
   "cell_type": "markdown",
   "metadata": {},
   "source": [
    "### Clusters 6-9 look pretty bad from a malware perspective. Lets pull them out and see what they look like"
   ]
  },
  {
   "cell_type": "code",
   "execution_count": 34,
   "metadata": {},
   "outputs": [
    {
     "data": {
      "text/html": [
       "<iframe id=\"igraph\" scrolling=\"no\" style=\"border:none;\" seamless=\"seamless\" src=\"https://plot.ly/~jconwell/32.embed\" height=\"525px\" width=\"100%\"></iframe>"
      ],
      "text/plain": [
       "<chart_studio.tools.PlotlyDisplay object>"
      ]
     },
     "execution_count": 34,
     "metadata": {},
     "output_type": "execute_result"
    }
   ],
   "source": [
    "centroids = malware_model.clusterCenters()\n",
    "buckets = [x for x in range(100)]\n",
    "data = [go.Scatter(x = buckets, y = centroids[c], name = f\"cluster_{c}\") for c in [6,7,8,9]]\n",
    "\n",
    "layout = go.Layout(\n",
    "    title=\"Malware Clusters 6 - 9\",\n",
    "    titlefont=title_font,\n",
    "    xaxis=x_axis,\n",
    "    yaxis=y_axis\n",
    ")\n",
    "fig = go.Figure(data=data, layout=layout)\n",
    "\n",
    "py.iplot(fig, filename=plot_name())"
   ]
  },
  {
   "cell_type": "markdown",
   "metadata": {},
   "source": [
    "### List of Malwareish TLDs from clusters 6 - 9"
   ]
  },
  {
   "cell_type": "code",
   "execution_count": 35,
   "metadata": {},
   "outputs": [
    {
     "name": "stdout",
     "output_type": "stream",
     "text": [
      "+---------------+----------+------------+\n",
      "|            tld|prediction|domain_count|\n",
      "+---------------+----------+------------+\n",
      "|           .top|         9|     4106700|\n",
      "|            .tk|         8|     3158181|\n",
      "|           .xyz|         7|     2526182|\n",
      "|            .tw|         6|     2476020|\n",
      "|          .loan|         8|     2203017|\n",
      "|            .ga|         7|     1950194|\n",
      "|            .ml|         7|     1682226|\n",
      "|            .cf|         7|     1667317|\n",
      "|            .gq|         7|     1534950|\n",
      "|          .club|         7|     1407012|\n",
      "|        .online|         6|     1210913|\n",
      "|          .site|         9|     1182432|\n",
      "|           .ltd|         8|      652897|\n",
      "|          .work|         9|      597322|\n",
      "|           .vip|         6|      566351|\n",
      "|           .icu|         8|      539214|\n",
      "|            .pw|         6|      517159|\n",
      "|            .cc|         8|      427158|\n",
      "|           .gdn|         7|      354361|\n",
      "|           .men|         9|      338756|\n",
      "|           .win|         7|      314803|\n",
      "|         .space|         6|      310004|\n",
      "|           .fun|         9|      281101|\n",
      "|        .stream|         8|      275279|\n",
      "|           .bid|         9|      228408|\n",
      "|        .review|         7|      208278|\n",
      "|         .trade|         9|      161101|\n",
      "|          .host|         6|      155228|\n",
      "|         .cloud|         6|      154666|\n",
      "|          .date|         7|      133268|\n",
      "|      .download|         9|      100084|\n",
      "|         .party|         7|       96533|\n",
      "|           .ink|         8|       86701|\n",
      "|       .science|         7|       83805|\n",
      "|        .racing|         9|       71005|\n",
      "|           .xin|         7|       65759|\n",
      "|    .accountant|         8|       57219|\n",
      "|         .faith|         6|       55141|\n",
      "|        .webcam|         7|       51932|\n",
      "|    .xn--fiqs8s|         6|       41630|\n",
      "|    .xn--fiqz9s|         6|       39966|\n",
      "|     .xn--p1acf|         6|       34300|\n",
      "|.xn--6qq986b3xl|         9|       29169|\n",
      "|       .cricket|         7|       22460|\n",
      "|           .tel|         6|       19092|\n",
      "|    .xn--55qx5d|         7|       15878|\n",
      "|          .page|         7|       14531|\n",
      "|       .support|         6|       13795|\n",
      "|         .co.zw|         6|       13090|\n",
      "|    .xn--io0a7i|         7|       10336|\n",
      "|          .gold|         6|        8908|\n",
      "|  .xn--80adxhks|         6|        8333|\n",
      "|          .casa|         6|        5609|\n",
      "|    .xn--czru2d|         7|        5253|\n",
      "+---------------+----------+------------+\n",
      "\n"
     ]
    }
   ],
   "source": [
    "malware_predictions\\\n",
    "    .where(col(\"prediction\").isin([6,7,8,9]))\\\n",
    "    .select(\"tld\", \"prediction\", \"domain_count\")\\\n",
    "    .orderBy(\"domain_count\", ascending=False)\\\n",
    "    .show(100)"
   ]
  },
  {
   "cell_type": "markdown",
   "metadata": {},
   "source": [
    "## Spam Clusters\n",
    "### Cluster spam's TLD Risk vectors and see what we get"
   ]
  },
  {
   "cell_type": "code",
   "execution_count": 36,
   "metadata": {},
   "outputs": [],
   "source": [
    "# Pick the clustering algorithm to use\n",
    "clustering = BisectingKMeans(k=20, seed=42)\n",
    "# clustering = KMeans(k=20, seed=42)\n",
    "\n",
    "spam_df = df.select(col(\"tld\"), col(\"spam_features\").alias(\"features\"), col(\"domain_count\"))\n",
    "\n",
    "spam_model = clustering.fit(spam_df)\n",
    "\n",
    "# Shows the result.\n",
    "# print(\"Cluster Centers: \")\n",
    "# centers = spam_model.clusterCenters()\n",
    "# for center in centers:\n",
    "#     print(center)\n",
    "\n",
    "# assign TLDs to vectors\n",
    "spam_predictions = spam_model.transform(spam_df)\\\n",
    "    .orderBy(col(\"prediction\"), col(\"domain_count\").desc()).cache()"
   ]
  },
  {
   "cell_type": "code",
   "execution_count": 37,
   "metadata": {},
   "outputs": [
    {
     "data": {
      "text/html": [
       "<iframe id=\"igraph\" scrolling=\"no\" style=\"border:none;\" seamless=\"seamless\" src=\"https://plot.ly/~jconwell/34.embed\" height=\"525px\" width=\"100%\"></iframe>"
      ],
      "text/plain": [
       "<chart_studio.tools.PlotlyDisplay object>"
      ]
     },
     "execution_count": 37,
     "metadata": {},
     "output_type": "execute_result"
    }
   ],
   "source": [
    "centroids = spam_model.clusterCenters()\n",
    "buckets = [x for x in range(100)]\n",
    "data = [go.Scatter(x = buckets, y = centroids[c], name = f\"cluster_{c}\") for c in range(20)]\n",
    "\n",
    "layout = go.Layout(\n",
    "    title=\"TLDs Clustered By Spam Score\",\n",
    "    titlefont=title_font,\n",
    "    xaxis=x_axis,\n",
    "    yaxis=y_axis\n",
    ")\n",
    "fig = go.Figure(data=data, layout=layout)\n",
    "\n",
    "py.iplot(fig, filename=plot_name())"
   ]
  },
  {
   "cell_type": "markdown",
   "metadata": {},
   "source": [
    "### Clusters 6 and 7 look pretty spamy. Lets see what they look like\n",
    "\n",
    "Note: clusters 4 and 5 look kind'a questionable, but I think I'll leave them out for now"
   ]
  },
  {
   "cell_type": "code",
   "execution_count": 19,
   "metadata": {},
   "outputs": [
    {
     "data": {
      "text/html": [
       "<iframe id=\"igraph\" scrolling=\"no\" style=\"border:none;\" seamless=\"seamless\" src=\"https://plot.ly/~jconwell/18.embed\" height=\"525px\" width=\"100%\"></iframe>"
      ],
      "text/plain": [
       "<chart_studio.tools.PlotlyDisplay object>"
      ]
     },
     "execution_count": 19,
     "metadata": {},
     "output_type": "execute_result"
    }
   ],
   "source": [
    "centroids = spam_model.clusterCenters()\n",
    "buckets = [x for x in range(100)]\n",
    "data = [go.Scatter(x = buckets, y = centroids[c], name = f\"cluster_{c}\") for c in [6, 7]]\n",
    "\n",
    "layout = go.Layout(\n",
    "    title=\"Spam Clusters 0-3\",\n",
    "    titlefont=title_font,\n",
    "    xaxis=x_axis,\n",
    "    yaxis=y_axis\n",
    ")\n",
    "fig = go.Figure(data=data, layout=layout)\n",
    "\n",
    "py.iplot(data, filename=plot_name())"
   ]
  },
  {
   "cell_type": "markdown",
   "metadata": {},
   "source": [
    "### List of Spamy TLDs from clusters 6, 7"
   ]
  },
  {
   "cell_type": "code",
   "execution_count": 38,
   "metadata": {},
   "outputs": [
    {
     "name": "stdout",
     "output_type": "stream",
     "text": [
      "+-----------+----------+------------+\n",
      "|        tld|prediction|domain_count|\n",
      "+-----------+----------+------------+\n",
      "|      .loan|         7|     2203017|\n",
      "|      .work|         7|      597322|\n",
      "|       .gdn|         6|      354361|\n",
      "|       .men|         6|      338756|\n",
      "|    .stream|         6|      275279|\n",
      "|       .bid|         6|      228408|\n",
      "|    .review|         7|      208278|\n",
      "|     .trade|         7|      161101|\n",
      "|      .host|         6|      155228|\n",
      "|      .date|         7|      133268|\n",
      "|  .download|         7|      100084|\n",
      "|     .party|         6|       96533|\n",
      "|   .science|         7|       83805|\n",
      "|    .racing|         6|       71005|\n",
      "|.accountant|         6|       57219|\n",
      "|     .faith|         6|       55141|\n",
      "|    .webcam|         7|       51932|\n",
      "| .xn--p1acf|         6|       34300|\n",
      "|   .cricket|         6|       22460|\n",
      "+-----------+----------+------------+\n",
      "\n"
     ]
    }
   ],
   "source": [
    "spam_predictions\\\n",
    "    .where(col(\"prediction\").isin([6, 7]))\\\n",
    "    .select(\"tld\", \"prediction\", \"domain_count\")\\\n",
    "    .orderBy(\"domain_count\", ascending=False)\\\n",
    "    .show(100)"
   ]
  },
  {
   "cell_type": "markdown",
   "metadata": {},
   "source": [
    "### Hmmm...where are the Freenom TLDs in the spam results?\n",
    "\n",
    "I noticed that .TK was at or near the top of the list for both phish and malware, but not in the spam list. In fact none of the Freenom TLDs made it into the spamy clusters.\n",
    "\n",
    "Lets go find .TK and see what cluster its in"
   ]
  },
  {
   "cell_type": "code",
   "execution_count": 40,
   "metadata": {},
   "outputs": [
    {
     "name": "stdout",
     "output_type": "stream",
     "text": [
      "+---+--------------------+------------+----------+\n",
      "|tld|            features|domain_count|prediction|\n",
      "+---+--------------------+------------+----------+\n",
      "|.tk|[0.08287903701529...|     3158181|         5|\n",
      "+---+--------------------+------------+----------+\n",
      "\n"
     ]
    }
   ],
   "source": [
    "spam_predictions.where(col(\"tld\") == \".tk\").show()"
   ]
  },
  {
   "cell_type": "markdown",
   "metadata": {},
   "source": [
    "#### Cluster 5 again\n",
    "So .TK is in cluster 5.  What else is in cluster 5?"
   ]
  },
  {
   "cell_type": "code",
   "execution_count": 41,
   "metadata": {},
   "outputs": [
    {
     "name": "stdout",
     "output_type": "stream",
     "text": [
      "+-------+--------------------+------------+----------+\n",
      "|    tld|            features|domain_count|prediction|\n",
      "+-------+--------------------+------------+----------+\n",
      "|    .tk|[0.08287903701529...|     3158181|         5|\n",
      "|    .ml|[0.13501515254192...|     1682226|         5|\n",
      "|    .cf|[0.12309656771927...|     1667317|         5|\n",
      "|    .gq|[0.11551907228248...|     1534950|         5|\n",
      "|   .ren|[0.03478192990086...|       89673|         5|\n",
      "|.boston|[0.07702943800178...|       22420|         5|\n",
      "+-------+--------------------+------------+----------+\n",
      "\n"
     ]
    }
   ],
   "source": [
    "spam_predictions.where(col(\"prediction\") == 5).show()"
   ]
  },
  {
   "cell_type": "markdown",
   "metadata": {},
   "source": [
    "#### Thats an interesting cluster\n",
    "\n",
    "4 out of the 5 Freenom TLDs showed up in cluster 5\n",
    "\n",
    "So just for fun lets look at cluster 4, the other semi-sketcy cluster"
   ]
  },
  {
   "cell_type": "code",
   "execution_count": 42,
   "metadata": {},
   "outputs": [
    {
     "name": "stdout",
     "output_type": "stream",
     "text": [
      "+----+--------------------+------------+----------+\n",
      "| tld|            features|domain_count|prediction|\n",
      "+----+--------------------+------------+----------+\n",
      "| .ga|[0.18340739434128...|     1950194|         4|\n",
      "| .us|[0.27380820779777...|     1194084|         4|\n",
      "|.icu|[0.12178652631422...|      539214|         4|\n",
      "|.win|[0.18524283440755...|      314803|         4|\n",
      "|.ink|[0.15954833277586...|       86701|         4|\n",
      "+----+--------------------+------------+----------+\n",
      "\n"
     ]
    }
   ],
   "source": [
    "spam_predictions.where(col(\"prediction\") == 4).show()"
   ]
  },
  {
   "cell_type": "markdown",
   "metadata": {},
   "source": [
    "#### There it is!\n",
    "The missing Freenom TLD, .GA, is in cluster 4.\n",
    "\n",
    "Cluster 4 is kind'a interesting because .ICU, .WIN, and .INK all showed up in the lists for phish and malware but .US didn't. The only list .US showed up in was for spam."
   ]
  },
  {
   "cell_type": "code",
   "execution_count": null,
   "metadata": {},
   "outputs": [],
   "source": []
  }
 ],
 "metadata": {
  "kernelspec": {
   "display_name": "Python 3",
   "language": "python",
   "name": "python3"
  },
  "language_info": {
   "codemirror_mode": {
    "name": "ipython",
    "version": 3
   },
   "file_extension": ".py",
   "mimetype": "text/x-python",
   "name": "python",
   "nbconvert_exporter": "python",
   "pygments_lexer": "ipython3",
   "version": "3.7.3"
  }
 },
 "nbformat": 4,
 "nbformat_minor": 2
}
